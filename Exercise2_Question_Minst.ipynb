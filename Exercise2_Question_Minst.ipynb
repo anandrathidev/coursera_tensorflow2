{
  "nbformat": 4,
  "nbformat_minor": 0,
  "metadata": {
    "colab": {
      "name": "Copy of Copy of Exercise2-Question.ipynb",
      "provenance": [],
      "collapsed_sections": [],
      "toc_visible": true,
      "include_colab_link": true
    },
    "kernelspec": {
      "name": "python3",
      "display_name": "Python 3"
    }
  },
  "cells": [
    {
      "cell_type": "markdown",
      "metadata": {
        "id": "view-in-github",
        "colab_type": "text"
      },
      "source": [
        "<a href=\"https://colab.research.google.com/github/anandrathidev/coursera_tensorflow2/blob/master/Exercise2_Question_Minst.ipynb\" target=\"_parent\"><img src=\"https://colab.research.google.com/assets/colab-badge.svg\" alt=\"Open In Colab\"/></a>"
      ]
    },
    {
      "cell_type": "markdown",
      "metadata": {
        "id": "tOoyQ70H00_s",
        "colab_type": "text"
      },
      "source": [
        "## Exercise 2\n",
        "In the course you learned how to do classification using Fashion MNIST, a data set containing items of clothing. There's another, similar dataset called MNIST which has items of handwriting -- the digits 0 through 9.\n",
        "\n",
        "Write an MNIST classifier that trains to 99% accuracy or above, and does it without a fixed number of epochs -- i.e. you should stop training once you reach that level of accuracy.\n",
        "\n",
        "Some notes:\n",
        "1. It should succeed in less than 10 epochs, so it is okay to change epochs to 10, but nothing larger\n",
        "2. When it reaches 99% or greater it should print out the string \"Reached 99% accuracy so cancelling training!\"\n",
        "3. If you add any additional variables, make sure you use the same names as the ones used in the class\n",
        "\n",
        "I've started the code for you below -- how would you finish it? "
      ]
    },
    {
      "cell_type": "markdown",
      "metadata": {
        "id": "J6qoCicL5Y0i",
        "colab_type": "text"
      },
      "source": [
        "# New Section"
      ]
    },
    {
      "cell_type": "markdown",
      "metadata": {
        "id": "ZsAQ5nQO5ZVn",
        "colab_type": "text"
      },
      "source": [
        "# New Section"
      ]
    },
    {
      "cell_type": "code",
      "metadata": {
        "id": "c4Hwbfdw5fkz",
        "colab_type": "code",
        "colab": {}
      },
      "source": [
        "from google.colab import drive\n",
        "drive.mount('/content/drive')"
      ],
      "execution_count": 0,
      "outputs": []
    },
    {
      "cell_type": "code",
      "metadata": {
        "id": "9rvXQGAA0ssC",
        "colab_type": "code",
        "outputId": "c2e04a75-9527-4f2b-9228-3f75b0ee6728",
        "colab": {
          "base_uri": "https://localhost:8080/",
          "height": 417
        }
      },
      "source": [
        "# YOUR CODE SHOULD START HERE\n",
        "# YOUR CODE SHOULD END HERE\n",
        "import tensorflow as tf\n",
        "mnist = tf.keras.datasets.mnist\n",
        "(x_train, y_train),(x_test, y_test) = mnist.load_data()\n",
        "# YOUR CODE SHOULD START HERE\n",
        "x_train = x_train/255.0\n",
        "x_test = x_test/255.0\n",
        "\n",
        "model = tf.keras.models.Sequential([\n",
        "        # YOUR CODE SHOULD START HERE\n",
        "      tf.keras.layers.Flatten(input_shape=(28, 28)),\n",
        "      tf.keras.layers.Dense(1024, activation=tf.nn.relu),\n",
        "      tf.keras.layers.Dense(1024, activation=tf.nn.relu),\n",
        "      tf.keras.layers.Dense(10, activation=tf.nn.softmax)    \n",
        "        # YOUR CODE SHOULD END HERE\n",
        "])\n",
        "    \n",
        "print(x_train.shape)\n",
        "\n",
        "# YOUR CODE SHOULD START HERE\n",
        "sgd = tf.keras.optimizers.SGD(lr=0.003, decay=1e-6, momentum=0.9, nesterov=True)\n",
        "model.compile(optimizer=sgd,\n",
        "                  loss='sparse_categorical_crossentropy',\n",
        "                  metrics=['accuracy'])\n",
        "    \n",
        "class myCallback(tf.keras.callbacks.Callback):\n",
        "  def on_epoch_end(self, epoch, logs={}):\n",
        "    if(logs.get('acc')>=0.99):\n",
        "      print(\"\\nReached 99% accuracy so cancelling training!\")\n",
        "      self.model.stop_training = True\n",
        "# YOUR CODE SHOULD END HERE\n",
        "# YOUR CODE SHOULD START HERE\n",
        "callbacks = myCallback()\n",
        "history = model.fit(x_train, y_train, epochs=10, callbacks=[callbacks])\n",
        "\n",
        "# YOUR CODE SHOULD END HERE"
      ],
      "execution_count": 0,
      "outputs": [
        {
          "output_type": "stream",
          "text": [
            "(60000, 28, 28)\n",
            "Train on 60000 samples\n",
            "Epoch 1/10\n",
            "60000/60000 [==============================] - 40s 661us/sample - loss: 0.3611 - acc: 0.9025\n",
            "Epoch 2/10\n",
            "60000/60000 [==============================] - 41s 677us/sample - loss: 0.1710 - acc: 0.9507\n",
            "Epoch 3/10\n",
            "60000/60000 [==============================] - 41s 676us/sample - loss: 0.1214 - acc: 0.9660\n",
            "Epoch 4/10\n",
            "60000/60000 [==============================] - 40s 661us/sample - loss: 0.0933 - acc: 0.9740\n",
            "Epoch 5/10\n",
            "60000/60000 [==============================] - 39s 644us/sample - loss: 0.0742 - acc: 0.9790\n",
            "Epoch 6/10\n",
            "60000/60000 [==============================] - 39s 650us/sample - loss: 0.0606 - acc: 0.9828\n",
            "Epoch 7/10\n",
            "60000/60000 [==============================] - 39s 654us/sample - loss: 0.0503 - acc: 0.9859\n",
            "Epoch 8/10\n",
            "60000/60000 [==============================] - 40s 663us/sample - loss: 0.0414 - acc: 0.9891\n",
            "Epoch 9/10\n",
            "59904/60000 [============================>.] - ETA: 0s - loss: 0.0350 - acc: 0.9907\n",
            "Reached 99% accuracy so cancelling training!\n",
            "60000/60000 [==============================] - 40s 662us/sample - loss: 0.0350 - acc: 0.9907\n"
          ],
          "name": "stdout"
        }
      ]
    }
  ]
}